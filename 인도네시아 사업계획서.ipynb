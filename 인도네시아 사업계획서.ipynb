{
 "cells": [
  {
   "cell_type": "code",
   "execution_count": 1,
   "metadata": {},
   "outputs": [
    {
     "ename": "ModuleNotFoundError",
     "evalue": "No module named 'docx'",
     "output_type": "error",
     "traceback": [
      "\u001b[1;31m---------------------------------------------------------------------------\u001b[0m",
      "\u001b[1;31mModuleNotFoundError\u001b[0m                       Traceback (most recent call last)",
      "Cell \u001b[1;32mIn[1], line 1\u001b[0m\n\u001b[1;32m----> 1\u001b[0m \u001b[38;5;28;01mfrom\u001b[39;00m \u001b[38;5;21;01mdocx\u001b[39;00m \u001b[38;5;28;01mimport\u001b[39;00m Document\n\u001b[0;32m      3\u001b[0m \u001b[38;5;66;03m# 문서 생성\u001b[39;00m\n\u001b[0;32m      4\u001b[0m doc \u001b[38;5;241m=\u001b[39m Document()\n",
      "\u001b[1;31mModuleNotFoundError\u001b[0m: No module named 'docx'"
     ]
    }
   ],
   "source": [
    "from docx import Document\n",
    "\n",
    "# 문서 생성\n",
    "doc = Document()\n",
    "\n",
    "# 제목\n",
    "doc.add_heading('사업계획서', level=1)\n",
    "\n",
    "# 섹션 1: 사업 개요\n",
    "doc.add_heading('1. 사업 개요', level=2)\n",
    "doc.add_paragraph('**사업명:** 인도네시아 현지화 조미김 제조 및 가공시설 구축 사업')\n",
    "doc.add_paragraph(\n",
    "    '**사업 목적:**\\n'\n",
    "    '인도네시아 현지에 HALAL 인증 조미김 생산 시설을 구축하여 물류비 절감, 생산성 향상, '\n",
    "    '위생적이고 차별화된 가공 시스템을 도입함으로써 서천김의 글로벌 브랜드 가치를 강화하고, '\n",
    "    '해외시장 공략을 확대하고자 합니다.'\n",
    ")\n",
    "\n",
    "# 저장\n",
    "file_name = \"인도네시아_사업계획서.docx\"\n",
    "doc.save(file_name)\n",
    "\n",
    "print(f\"파일이 생성되었습니다: {file_name}\")"
   ]
  }
 ],
 "metadata": {
  "kernelspec": {
   "display_name": "Python 3",
   "language": "python",
   "name": "python3"
  },
  "language_info": {
   "codemirror_mode": {
    "name": "ipython",
    "version": 3
   },
   "file_extension": ".py",
   "mimetype": "text/x-python",
   "name": "python",
   "nbconvert_exporter": "python",
   "pygments_lexer": "ipython3",
   "version": "3.11.9"
  }
 },
 "nbformat": 4,
 "nbformat_minor": 2
}
